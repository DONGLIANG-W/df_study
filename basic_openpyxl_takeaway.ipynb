{
 "cells": [
  {
   "cell_type": "markdown",
   "id": "18b1b309",
   "metadata": {},
   "source": [
    "# Basic automation excel with python - openpyxl"
   ]
  },
  {
   "cell_type": "markdown",
   "id": "490acec4",
   "metadata": {},
   "source": [
    "installation"
   ]
  },
  {
   "cell_type": "code",
   "execution_count": 1,
   "id": "0a9edcae",
   "metadata": {},
   "outputs": [],
   "source": [
    "# pip install openpyxl"
   ]
  },
  {
   "cell_type": "code",
   "execution_count": 2,
   "id": "51d2c344",
   "metadata": {},
   "outputs": [],
   "source": [
    "import openpyxl\n",
    "import numpy as np\n",
    "import matplotlib.pyplot as plt"
   ]
  },
  {
   "cell_type": "markdown",
   "id": "08f757f1",
   "metadata": {},
   "source": [
    "to load or create new workbook"
   ]
  },
  {
   "cell_type": "code",
   "execution_count": 3,
   "id": "f9858ff9",
   "metadata": {},
   "outputs": [],
   "source": [
    "from openpyxl import Workbook, load_workbook"
   ]
  },
  {
   "cell_type": "markdown",
   "id": "c485f413",
   "metadata": {},
   "source": [
    "in order to read a xlsx file, here I need to create one"
   ]
  },
  {
   "cell_type": "markdown",
   "id": "6b5ecc34",
   "metadata": {},
   "source": [
    "to create a new workbook"
   ]
  },
  {
   "cell_type": "code",
   "execution_count": 4,
   "id": "86980633",
   "metadata": {},
   "outputs": [],
   "source": [
    "wb = Workbook()"
   ]
  },
  {
   "cell_type": "markdown",
   "id": "53468935",
   "metadata": {},
   "source": [
    "create a worksheet"
   ]
  },
  {
   "cell_type": "code",
   "execution_count": 5,
   "id": "312938ee",
   "metadata": {},
   "outputs": [],
   "source": [
    "ws=wb.active\n",
    "ws.title = 'Data'"
   ]
  },
  {
   "cell_type": "code",
   "execution_count": 6,
   "id": "c3cc5cae",
   "metadata": {},
   "outputs": [
    {
     "data": {
      "text/html": [
       "<div>\n",
       "<style scoped>\n",
       "    .dataframe tbody tr th:only-of-type {\n",
       "        vertical-align: middle;\n",
       "    }\n",
       "\n",
       "    .dataframe tbody tr th {\n",
       "        vertical-align: top;\n",
       "    }\n",
       "\n",
       "    .dataframe thead th {\n",
       "        text-align: right;\n",
       "    }\n",
       "</style>\n",
       "<table border=\"1\" class=\"dataframe\">\n",
       "  <thead>\n",
       "    <tr style=\"text-align: right;\">\n",
       "      <th></th>\n",
       "      <th>Name</th>\n",
       "      <th>math</th>\n",
       "      <th>science</th>\n",
       "      <th>english</th>\n",
       "      <th>gym</th>\n",
       "    </tr>\n",
       "  </thead>\n",
       "  <tbody>\n",
       "    <tr>\n",
       "      <th>0</th>\n",
       "      <td>Joe</td>\n",
       "      <td>65</td>\n",
       "      <td>78</td>\n",
       "      <td>98</td>\n",
       "      <td>89.0</td>\n",
       "    </tr>\n",
       "    <tr>\n",
       "      <th>1</th>\n",
       "      <td>Bill</td>\n",
       "      <td>55</td>\n",
       "      <td>72</td>\n",
       "      <td>87</td>\n",
       "      <td>95.0</td>\n",
       "    </tr>\n",
       "    <tr>\n",
       "      <th>2</th>\n",
       "      <td>Tim</td>\n",
       "      <td>100</td>\n",
       "      <td>45</td>\n",
       "      <td>75</td>\n",
       "      <td>92.0</td>\n",
       "    </tr>\n",
       "    <tr>\n",
       "      <th>3</th>\n",
       "      <td>Sally</td>\n",
       "      <td>30</td>\n",
       "      <td>25</td>\n",
       "      <td>45</td>\n",
       "      <td>100.0</td>\n",
       "    </tr>\n",
       "    <tr>\n",
       "      <th>4</th>\n",
       "      <td>Jane</td>\n",
       "      <td>100</td>\n",
       "      <td>100</td>\n",
       "      <td>100</td>\n",
       "      <td>60.0</td>\n",
       "    </tr>\n",
       "    <tr>\n",
       "      <th>5</th>\n",
       "      <td>NaN</td>\n",
       "      <td>70</td>\n",
       "      <td>64</td>\n",
       "      <td>81</td>\n",
       "      <td>87.2</td>\n",
       "    </tr>\n",
       "  </tbody>\n",
       "</table>\n",
       "</div>"
      ],
      "text/plain": [
       "    Name  math  science  english    gym\n",
       "0    Joe    65       78       98   89.0\n",
       "1   Bill    55       72       87   95.0\n",
       "2    Tim   100       45       75   92.0\n",
       "3  Sally    30       25       45  100.0\n",
       "4   Jane   100      100      100   60.0\n",
       "5    NaN    70       64       81   87.2"
      ]
     },
     "execution_count": 6,
     "metadata": {},
     "output_type": "execute_result"
    }
   ],
   "source": [
    "import pandas as pd\n",
    "df = pd.DataFrame({'Name':['Joe', 'Bill', 'Tim', 'Sally', 'Jane', np.nan], \n",
    "                   'math':[65,55,100,30,100,70], \n",
    "                   'science':[78,72,45,25,100,64], \n",
    "                   'english':[98,87,75,45,100,81],\n",
    "                   'gym': [89,95,92,100,60,87.2]})\n",
    "df.to_excel('./Grades.xlsx', index=False)\n",
    "df"
   ]
  },
  {
   "cell_type": "markdown",
   "id": "de179d1f",
   "metadata": {},
   "source": [
    "load the xlsx file"
   ]
  },
  {
   "cell_type": "code",
   "execution_count": 7,
   "id": "5a7f0924",
   "metadata": {},
   "outputs": [
    {
     "data": {
      "text/plain": [
       "<openpyxl.workbook.workbook.Workbook at 0x29630278d60>"
      ]
     },
     "execution_count": 7,
     "metadata": {},
     "output_type": "execute_result"
    }
   ],
   "source": [
    "wb = load_workbook('./Grades.xlsx')\n",
    "wb"
   ]
  },
  {
   "cell_type": "markdown",
   "id": "9f3edd5f",
   "metadata": {},
   "source": [
    "load the active wooksheet"
   ]
  },
  {
   "cell_type": "code",
   "execution_count": 8,
   "id": "20ff8e69",
   "metadata": {},
   "outputs": [
    {
     "data": {
      "text/plain": [
       "<Worksheet \"Sheet1\">"
      ]
     },
     "execution_count": 8,
     "metadata": {},
     "output_type": "execute_result"
    }
   ],
   "source": [
    "ws = wb.active\n",
    "ws"
   ]
  },
  {
   "cell_type": "markdown",
   "id": "40f9fd7a",
   "metadata": {},
   "source": [
    "access the value"
   ]
  },
  {
   "cell_type": "code",
   "execution_count": 9,
   "id": "f3f797f4",
   "metadata": {},
   "outputs": [
    {
     "name": "stdout",
     "output_type": "stream",
     "text": [
      "math\n"
     ]
    }
   ],
   "source": [
    "print(ws['B1'].value)"
   ]
  },
  {
   "cell_type": "markdown",
   "id": "c39eb020",
   "metadata": {},
   "source": [
    "change the value of a cell, and save the change\n",
    "Note: the file should not be opened while script is running to save the change into the opened file"
   ]
  },
  {
   "cell_type": "code",
   "execution_count": 10,
   "id": "9c44b0ce",
   "metadata": {},
   "outputs": [],
   "source": [
    "ws['B1'] = 'Math'\n",
    "wb.save('Grades.xlsx')"
   ]
  },
  {
   "cell_type": "markdown",
   "id": "e3d0089e",
   "metadata": {},
   "source": [
    "create a new sheet"
   ]
  },
  {
   "cell_type": "code",
   "execution_count": 11,
   "id": "8492e7c6",
   "metadata": {},
   "outputs": [
    {
     "name": "stdout",
     "output_type": "stream",
     "text": [
      "['Sheet1', 'Test']\n"
     ]
    }
   ],
   "source": [
    "wb.create_sheet('Test')\n",
    "print(wb.sheetnames)\n",
    "wb.save('Grades.xlsx')"
   ]
  },
  {
   "cell_type": "markdown",
   "id": "4d60c202",
   "metadata": {},
   "source": [
    "append data to the end of the existing worksheet"
   ]
  },
  {
   "cell_type": "code",
   "execution_count": 12,
   "id": "672e0a51",
   "metadata": {},
   "outputs": [],
   "source": [
    "ws = wb['Test']\n",
    "ws.append(['Total', 'Average', 'Median'])\n",
    "ws.append(['end'])\n",
    "wb.save('Grades.xlsx')"
   ]
  },
  {
   "cell_type": "markdown",
   "id": "c8ef19a3",
   "metadata": {},
   "source": [
    "create a loop, to read the values in cells\n",
    "\n",
    "to get the column number, use the function openpyxl.utils.get_column_letter()"
   ]
  },
  {
   "cell_type": "code",
   "execution_count": 13,
   "id": "df45fec9",
   "metadata": {},
   "outputs": [
    {
     "data": {
      "text/html": [
       "<div>\n",
       "<style scoped>\n",
       "    .dataframe tbody tr th:only-of-type {\n",
       "        vertical-align: middle;\n",
       "    }\n",
       "\n",
       "    .dataframe tbody tr th {\n",
       "        vertical-align: top;\n",
       "    }\n",
       "\n",
       "    .dataframe thead th {\n",
       "        text-align: right;\n",
       "    }\n",
       "</style>\n",
       "<table border=\"1\" class=\"dataframe\">\n",
       "  <thead>\n",
       "    <tr style=\"text-align: right;\">\n",
       "      <th></th>\n",
       "      <th>Name</th>\n",
       "      <th>math</th>\n",
       "      <th>science</th>\n",
       "      <th>english</th>\n",
       "      <th>gym</th>\n",
       "    </tr>\n",
       "  </thead>\n",
       "  <tbody>\n",
       "    <tr>\n",
       "      <th>0</th>\n",
       "      <td>Joe</td>\n",
       "      <td>65</td>\n",
       "      <td>78</td>\n",
       "      <td>98</td>\n",
       "      <td>89.0</td>\n",
       "    </tr>\n",
       "    <tr>\n",
       "      <th>1</th>\n",
       "      <td>Bill</td>\n",
       "      <td>55</td>\n",
       "      <td>72</td>\n",
       "      <td>87</td>\n",
       "      <td>95.0</td>\n",
       "    </tr>\n",
       "    <tr>\n",
       "      <th>2</th>\n",
       "      <td>Tim</td>\n",
       "      <td>100</td>\n",
       "      <td>45</td>\n",
       "      <td>75</td>\n",
       "      <td>92.0</td>\n",
       "    </tr>\n",
       "    <tr>\n",
       "      <th>3</th>\n",
       "      <td>Sally</td>\n",
       "      <td>30</td>\n",
       "      <td>25</td>\n",
       "      <td>45</td>\n",
       "      <td>100.0</td>\n",
       "    </tr>\n",
       "    <tr>\n",
       "      <th>4</th>\n",
       "      <td>Jane</td>\n",
       "      <td>100</td>\n",
       "      <td>100</td>\n",
       "      <td>100</td>\n",
       "      <td>60.0</td>\n",
       "    </tr>\n",
       "    <tr>\n",
       "      <th>5</th>\n",
       "      <td>NaN</td>\n",
       "      <td>70</td>\n",
       "      <td>64</td>\n",
       "      <td>81</td>\n",
       "      <td>87.2</td>\n",
       "    </tr>\n",
       "  </tbody>\n",
       "</table>\n",
       "</div>"
      ],
      "text/plain": [
       "    Name  math  science  english    gym\n",
       "0    Joe    65       78       98   89.0\n",
       "1   Bill    55       72       87   95.0\n",
       "2    Tim   100       45       75   92.0\n",
       "3  Sally    30       25       45  100.0\n",
       "4   Jane   100      100      100   60.0\n",
       "5    NaN    70       64       81   87.2"
      ]
     },
     "execution_count": 13,
     "metadata": {},
     "output_type": "execute_result"
    }
   ],
   "source": [
    "df"
   ]
  },
  {
   "cell_type": "code",
   "execution_count": 14,
   "id": "5796daae",
   "metadata": {},
   "outputs": [
    {
     "name": "stdout",
     "output_type": "stream",
     "text": [
      "cell B2 value is 65\n",
      "cell C2 value is 78\n",
      "cell D2 value is 98\n",
      "cell E2 value is 89\n",
      "cell B3 value is 55\n",
      "cell C3 value is 72\n",
      "cell D3 value is 87\n",
      "cell E3 value is 95\n",
      "cell B4 value is 100\n",
      "cell C4 value is 45\n",
      "cell D4 value is 75\n",
      "cell E4 value is 92\n",
      "cell B5 value is 30\n",
      "cell C5 value is 25\n",
      "cell D5 value is 45\n",
      "cell E5 value is 100\n",
      "cell B6 value is 100\n",
      "cell C6 value is 100\n",
      "cell D6 value is 100\n",
      "cell E6 value is 60\n"
     ]
    }
   ],
   "source": [
    "from openpyxl.utils import get_column_letter\n",
    "ws = wb['Sheet1']\n",
    "for row in range(2,7):\n",
    "    for column in range(2,6):\n",
    "        column_letter = get_column_letter(column)\n",
    "        column_row = column_letter + str(row)\n",
    "        print(\"cell {} value is {}\".format(column_row, ws[column_row].value))"
   ]
  },
  {
   "cell_type": "markdown",
   "id": "857ed13f",
   "metadata": {},
   "source": [
    "merge cells and un-merge cells"
   ]
  },
  {
   "cell_type": "code",
   "execution_count": 15,
   "id": "6ff7b464",
   "metadata": {},
   "outputs": [],
   "source": [
    "ws = wb['Test']\n",
    "ws.merge_cells('A2:D4')\n",
    "wb.save('Grades.xlsx')"
   ]
  },
  {
   "cell_type": "code",
   "execution_count": 16,
   "id": "05e7f565",
   "metadata": {},
   "outputs": [],
   "source": [
    "ws = wb['Test']\n",
    "ws.unmerge_cells('A2:D4')\n",
    "wb.save('Grades.xlsx')"
   ]
  },
  {
   "cell_type": "markdown",
   "id": "af6c892b",
   "metadata": {},
   "source": [
    "insert a new row with ws.insert_rows(n) after row number n"
   ]
  },
  {
   "cell_type": "code",
   "execution_count": 17,
   "id": "e5852c33",
   "metadata": {},
   "outputs": [],
   "source": [
    "ws.insert_rows(1)\n",
    "wb.save('Grades.xlsx')"
   ]
  },
  {
   "cell_type": "markdown",
   "id": "55d7db4c",
   "metadata": {},
   "source": [
    "delete rows, similar to the insertion"
   ]
  },
  {
   "cell_type": "code",
   "execution_count": 18,
   "id": "c99997f3",
   "metadata": {},
   "outputs": [],
   "source": [
    "ws.delete_rows(1)\n",
    "wb.save('Grades.xlsx')"
   ]
  },
  {
   "cell_type": "markdown",
   "id": "e1d7af05",
   "metadata": {},
   "source": [
    "insert and delete columns"
   ]
  },
  {
   "cell_type": "code",
   "execution_count": 19,
   "id": "ff07652c",
   "metadata": {},
   "outputs": [],
   "source": [
    "ws.insert_cols(2)\n",
    "ws.delete_cols(2)\n",
    "wb.save('Grades.xlsx')"
   ]
  },
  {
   "cell_type": "markdown",
   "id": "14954199",
   "metadata": {},
   "source": [
    "Shift a cells or cells left/right up/down "
   ]
  },
  {
   "cell_type": "code",
   "execution_count": 20,
   "id": "5448e73a",
   "metadata": {},
   "outputs": [],
   "source": [
    "# rows=5, cols-3 means move the cells down by 5 rows and right by 3 columns\n",
    "# negative values means to left or up \n",
    "ws.move_range('A1:D1', rows=5, cols=3)\n",
    "wb.save('Grades.xlsx')"
   ]
  },
  {
   "cell_type": "markdown",
   "id": "7fe4dcfe",
   "metadata": {},
   "source": [
    "Earlier we did write a dataframe into a excel, this can be done in excel way by writing a dict to a xlsx"
   ]
  },
  {
   "cell_type": "code",
   "execution_count": 21,
   "id": "1f6a1a4b",
   "metadata": {},
   "outputs": [],
   "source": [
    "# dict grades\n",
    "grade_data = {\n",
    "    'Joe':{\n",
    "        'math': 65,\n",
    "        'science':78,\n",
    "        'english':98,\n",
    "        'gym':89},\n",
    "    'Bill':{\n",
    "        'math':55,\n",
    "        'science':72,\n",
    "        'english':87,\n",
    "        'gym':95}\n",
    "    }"
   ]
  },
  {
   "cell_type": "code",
   "execution_count": 22,
   "id": "cefa32e6",
   "metadata": {},
   "outputs": [
    {
     "name": "stdout",
     "output_type": "stream",
     "text": [
      "['Name', 'math', 'science', 'english', 'gym']\n"
     ]
    }
   ],
   "source": [
    "wb = Workbook()\n",
    "ws = wb.active\n",
    "ws.title = 'Grades'\n",
    "# write the header, shift first column by one, so add 'Name' to the keys of the dict \n",
    "headings = ['Name']+ list(grade_data['Joe'].keys())\n",
    "print(headings)\n",
    "ws.append(headings)"
   ]
  },
  {
   "cell_type": "markdown",
   "id": "f1bf3d9f",
   "metadata": {},
   "source": [
    "loop through the keys and append the values in each sub-dict "
   ]
  },
  {
   "cell_type": "code",
   "execution_count": 23,
   "id": "6bdfa4f9",
   "metadata": {},
   "outputs": [
    {
     "name": "stdout",
     "output_type": "stream",
     "text": [
      "[65, 78, 98, 89]\n",
      "[55, 72, 87, 95]\n"
     ]
    }
   ],
   "source": [
    "for student in grade_data:\n",
    "    grade = list(grade_data[student].values())\n",
    "    print(grade)\n",
    "    ws.append([student]+grade)\n",
    "wb.save('./new_grades.xlsx')"
   ]
  },
  {
   "cell_type": "markdown",
   "id": "2e1fb33f",
   "metadata": {},
   "source": [
    "change the font color and style "
   ]
  },
  {
   "cell_type": "code",
   "execution_count": 24,
   "id": "11d73a08",
   "metadata": {},
   "outputs": [],
   "source": [
    "from openpyxl.styles import Font\n",
    "for col in range(1,6):\n",
    "    col_letter = get_column_letter(col)\n",
    "    ws[col_letter+'1'].font = Font(bold=True, color='0099CCFF')\n",
    "wb.save('./new_grades.xlsx')"
   ]
  },
  {
   "cell_type": "code",
   "execution_count": null,
   "id": "b212f8ef",
   "metadata": {},
   "outputs": [],
   "source": []
  },
  {
   "cell_type": "code",
   "execution_count": null,
   "id": "684b40fc",
   "metadata": {},
   "outputs": [],
   "source": []
  }
 ],
 "metadata": {
  "kernelspec": {
   "display_name": "Python 3 (ipykernel)",
   "language": "python",
   "name": "python3"
  },
  "language_info": {
   "codemirror_mode": {
    "name": "ipython",
    "version": 3
   },
   "file_extension": ".py",
   "mimetype": "text/x-python",
   "name": "python",
   "nbconvert_exporter": "python",
   "pygments_lexer": "ipython3",
   "version": "3.9.12"
  }
 },
 "nbformat": 4,
 "nbformat_minor": 5
}
